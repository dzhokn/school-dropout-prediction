{
 "cells": [
  {
   "cell_type": "markdown",
   "metadata": {},
   "source": [
    "## Gradient Descent\n",
    "Gradient Descent is the one algorithm that is used in **almost every machine learning model**. There are a few variations of the algorithm but this, essentially, is how any ML model searches for the best function that represents the data in the training dataset (i.e. the function that has lowest possible cost/deviation).\n",
    "\n",
    "Gradient descent is an optimization algorithm used to minimize the cost function and find the best-fit line for the model. The goal is to iteratively adjust the weights of the model to reduce the error. **Each iteration** updates the weights in the direction that **decreases the cost** function giving us optimal set of parameters.\n",
    "\n",
    "### Derivative, Slope, Gradient\n",
    "From our knowledge in Calculus we are expected to already know that the derivative of a function shows the **slope** of that function in a particular point. So, if we calculate the **derivative of the cost function** around specific point $x$, then we can conclude in which direction the cost function goes down (i.e. produce lower cost). In other words, the derivative of $J$ is the direction we choose (which slope we descend into). It calculates the direction and the slope. (the left or right slope - up or down).\n",
    "\n",
    "<center><img src=\"img/gradient_descent_1.png\" alt=\"Derivative of the cost function\" width=\"600\" height=\"363\" /></center>\n",
    "<p style=\"text-align: center; font-size: small;\"><i><b>Figure 1.</b> Cost function for our data</i></p>\n",
    "\n",
    "So, if the cost function is:\n",
    "$$ J = \\frac{1}{m} \\sum_{i=1}^{m} (f_{w,b}(x^{(i)}) - y^{(i)})^2 $$\n",
    "\n",
    "or for short we use $\\hat{y}$ for the predicted value:\n",
    "\n",
    "$$ J = \\frac{1}{m} \\sum_{i=1}^{m} ( \\hat{y}^{(i)} - y^{(i)})^2 $$\n",
    "\n",
    "\n",
    "Then, in order to calculate the gradient (the movement up or down) for specific coefficients $w$ and $b$ we need to calculate two derivatives.\n",
    "\n",
    "#### Derivative wrt to w\n",
    "The derivative of the *cost function* $J(w, b)$ in respect to the input parameter $w$ :\n",
    "$$ J'_w = \\frac{d}{dw} J(w,b) $$\n",
    "$$ = \\frac{d}{dw} \\left[ \\frac{1}{m} \\sum_{i=1}^{m} (\\hat{y}^{(i)}  - y^{(i)})^2 \\right] $$\n",
    "Using the **Constant Multiple Rule** we extract $\\frac{1}{m}$:\n",
    "$$ = \\frac{1}{m} \\frac{d}{dw} \\left[\\sum_{i=1}^{m} (\\hat{y}^{(i)}  - y^{(i)})^2 \\right] $$\n",
    "\n",
    "Now using the **Chain Rule** we come up with:\n",
    "\n",
    "$$ = \\frac{1}{m} \\left[ \\sum_{i=1}^{m} \\left( \\frac{d}{dw} (\\hat{y}^{(i)}  - y^{(i)})^2 \\right) \\left( \\frac{d}{dw}(\\hat{y}^{(i)}  - y^{(i)}) \\right) \\right] $$\n",
    "\n",
    "We calculate the first derivative and replace $\\hat{y}$ with its linear representation $b + wx^{(i)}$:\n",
    "$$ = \\frac{1}{m} \\left[ \\sum_{i=1}^{m} 2(\\hat{y}^{(i)}  - y^{(i)}) \\left( \\frac{d}{dw}(b + wx^{(i)} - y^{(i)}) \\right) \\right] $$\n",
    "\n",
    "Now we apply the **Constant Rule**:\n",
    "$$ = \\frac{1}{m} \\left[ \\sum_{i=1}^{m} 2(\\hat{y}^{(i)}  - y^{(i)}) \\left( 0 + x^{(i)} - 0 \\right) \\right] $$\n",
    "$$ = \\frac{2}{m} \\sum_{i=1}^{m} (\\hat{y}^{(i)}  - y^{(i)}) x^{(i)} $$\n",
    "\n",
    "So, the final result is:\n",
    "$$ J'_w = \\frac{2}{m} \\sum_{i=1}^{m} (\\hat{y}^{(i)}  - y^{(i)}) x^{(i)} $$\n",
    "\n",
    "\n",
    "\n",
    "#### Derivative wrt to b\n",
    "The derivative of the *cost function* $J(w, b)$ in respect to the input parameter $b$ :\n",
    "$$ J'_b = \\frac{d}{db} J(w,b) $$\n",
    "$$ = \\frac{d}{db} \\left[ \\frac{1}{m} \\sum_{i=1}^{m} (\\hat{y}^{(i)}  - y^{(i)})^2 \\right] $$\n",
    "$$ = \\frac{1}{m} \\left[ \\sum_{i=1}^{m} 2(\\hat{y}^{(i)}  - y^{(i)}) \\left( \\frac{d}{db}(\\hat{y}^{(i)}  - y^{(i)}) \\right) \\right] $$\n",
    "$$ = \\frac{1}{m} \\left[ \\sum_{i=1}^{m} 2(\\hat{y}^{(i)}  - y^{(i)}) \\left( \\frac{d}{db}(b + wx^{(i)} - y^{(i)}) \\right) \\right] $$\n",
    "$$ = \\frac{1}{m} \\left[ \\sum_{i=1}^{m} 2(\\hat{y}^{(i)}  - y^{(i)}) \\left( 1 + 0 - 0 \\right) \\right] $$\n",
    "$$ = \\frac{2}{m} \\sum_{i=1}^{m} (\\hat{y}^{(i)}  - y^{(i)}) $$\n",
    "\n",
    "\n",
    "The derivatives show how quickly the *cost* changes when a specific parameter ($w$ or $b$) is modified.\n",
    "$$ J'_w = \\frac{2}{m} \\sum_{i=1}^{m} (\\hat{y}^{(i)}  - y^{(i)}) x^{(i)}  $$\n",
    "$$ J'_b = \\frac{2}{m} \\sum_{i=1}^{m} (\\hat{y}^{(i)}  - y^{(i)}) $$"
   ]
  },
  {
   "cell_type": "markdown",
   "metadata": {},
   "source": [
    "### Learning rate\n",
    "Once we calculate the derivatives in specific point we can calculate the derivatives in close points too. This way we will know the direction of the slope. But how close should the points be ... well this is called **learning rate** and is usually noted with $\\alpha$. \n",
    "\n",
    "The lower the learning rate, the more precise are our movements down the slope.\n",
    "\n",
    "<center><img src=\"img/gradient_descent_2.png\" alt=\"Derivative of the cost function\" width=\"600\" height=\"407\" /></center>\n",
    "<p style=\"text-align: center; font-size: small;\"><i><b>Figure 2.</b> Learning rate determines how fast we find the optimal value of the cost function</i></p>\n",
    "\n",
    "If the learning rate is too high, then we might miss the optimal (minimal) cost and oscilate around that point making the learning unstable.\n",
    "\n",
    "<center><img src=\"img/gradient_descent_3.png\" alt=\"Derivative of the cost function\" width=\"600\" height=\"407\" /></center>\n",
    "<p style=\"text-align: center; font-size: small;\"><i><b>Figure 3.</b> Too high learning rate</i></p>"
   ]
  },
  {
   "cell_type": "markdown",
   "metadata": {},
   "source": [
    "### Gradient Descent Algorithm\n",
    "Gradient descent works as follows:\n",
    "\n",
    "* Start with an initial (could be random) guess for $w$ and $b$\n",
    "* Calculate the MSE for the current $w$ and $b$\n",
    "* Compute the gradient of the cost function with respect to $w$ and $b$\n",
    "* Update $w$ and $b$ using the formulas:\n",
    "$$ w = w - \\alpha J'w $$\n",
    "$$ b = b - \\alpha J'b $$\n",
    "* Repeat the process until the MSE converges to a minimum value or a set number of iterations is reached.\n",
    "\n",
    "Where:\n",
    "* $\\alpha$ is the learning rate (step size)\n",
    "* $\\frac{d}{dw} J(w,b)$  is the slope of the cost function.\n",
    "\n",
    "### Implementation\n",
    "Now let's implement gradient descent using the above formulas.\n"
   ]
  },
  {
   "cell_type": "code",
   "execution_count": 1,
   "metadata": {},
   "outputs": [],
   "source": [
    "import math\n",
    "import numpy as np\n",
    "import matplotlib.pyplot as plt"
   ]
  },
  {
   "cell_type": "code",
   "execution_count": 2,
   "metadata": {},
   "outputs": [],
   "source": [
    "def compute_y(x: float, w: float, b: float) -> float:\n",
    "    return b + w * x\n",
    "\n",
    "def compute_cost(X: np.ndarray, Y: np.ndarray, w: float, b: float) -> float:\n",
    "    m = len(X)\n",
    "    cost = 0\n",
    "    # Calculate the difference between the predicted value and the actual `y` value.\n",
    "    # Square the difference to make sure it's always positive.\n",
    "    # Sum all the diffs to get the total cost. Divide by `m` to get the average cost.\n",
    "    for i in range(m):\n",
    "        y_predict = compute_y(X[i], w, b)\n",
    "        cost += (y_predict - Y[i]) ** 2\n",
    "    return cost / m\n",
    "\n",
    "def compute_gradient(X: np.ndarray, Y: np.ndarray, w: float, b: float) -> tuple[float, float]:\n",
    "    \"\"\"Computes the gradient for a linear regression with single feature (x).\n",
    "      \n",
    "    Returns:\n",
    "      dj_dw (scalar): The gradient of the cost w.r.t. the parameters w. \n",
    "      dj_db (scalar): The gradient of the cost w.r.t. the parameter b.\"\"\"\n",
    "    m = len(X)\n",
    "    dj_dw = 0.\n",
    "    dj_db = 0.\n",
    "\n",
    "    for i in range(m):\n",
    "        y_predict = compute_y(X[i], w, b)\n",
    "        err = y_predict - Y[i]\n",
    "        dj_dw = dj_dw + err * X[i]  # We use the formula from above\n",
    "        dj_db = dj_db + err         # We use the formula from above\n",
    "    dj_dw = 2 * dj_dw / m\n",
    "    dj_db = 2 * dj_db / m\n",
    "\n",
    "    return dj_db, dj_dw"
   ]
  },
  {
   "cell_type": "markdown",
   "metadata": {},
   "source": [
    "Now we implement the gradient descent, which iteratively looks for the lowest point (local minimum) in the chart by repeating the same computation for a number of iterations."
   ]
  },
  {
   "cell_type": "code",
   "execution_count": 3,
   "metadata": {},
   "outputs": [],
   "source": [
    "def gradient_descent(X: np.ndarray, Y: np.ndarray, w_init: float, b_init: float, alpha: float, iterations: int)-> tuple[float, float, list]:\n",
    "    \"\"\"Performs a gradient descent to learn w and b. Executes n descent steps with learning rate alpha.\n",
    "      \n",
    "    Returns:\n",
    "      w (scalar):       The optimal value for w\n",
    "      b (scalar):       The optimal value for b\n",
    "      J_history (list): The historical values of the cost function J (after each descent iteration)\"\"\"\n",
    "    \n",
    "    # An array to store cost J and w's at each iteration\n",
    "    J_history = []\n",
    "    w = w_init  # Copy the initial value of w. We don't want to modify the global \"w_init\" parameter.\n",
    "    b = b_init  # Copy the initial value of b. We don't want to modify the global \"b_init\" parameter.\n",
    "    \n",
    "    for i in range(iterations):\n",
    "        # Calculate the gradient for these `w` and `b`\n",
    "        dj_db, dj_dw = compute_gradient(X, Y, w, b)\n",
    "\n",
    "        # Update `w` and `b` based on the gradient (up or down) and the specified learning rate\n",
    "        w = w - alpha * dj_dw\n",
    "        b = b - alpha * dj_db\n",
    "\n",
    "        # Save cost J at each iteration (for debugging purposes only)\n",
    "        J_history.append(compute_cost(X, Y, w, b))\n",
    "\n",
    "        # Print the cost after every 10% of the iterations\n",
    "        if i% math.ceil(iterations / 10) == 0:\n",
    "            print(f\"Iteration {i:4d}: Cost {J_history[-1]}   \")\n",
    "        \n",
    "    return w, b, J_history # return final w, b and all the costs J  "
   ]
  },
  {
   "cell_type": "markdown",
   "metadata": {},
   "source": [
    "Now, let's see what optimal values for $w$ and $b$ will our gradient descent find using the same `salary` <-> `years of XP` data we used in the previous part."
   ]
  },
  {
   "cell_type": "code",
   "execution_count": 4,
   "metadata": {},
   "outputs": [
    {
     "name": "stdout",
     "output_type": "stream",
     "text": [
      "Iteration    0: Cost 417471.3564475662   \n",
      "Iteration  100: Cost 417122.4807071532   \n",
      "Iteration  200: Cost 417072.6304335614   \n",
      "Iteration  300: Cost 417058.06618995086   \n",
      "Iteration  400: Cost 417053.8111041378   \n",
      "Iteration  500: Cost 417052.5679393184   \n",
      "Iteration  600: Cost 417052.2047365922   \n",
      "Iteration  700: Cost 417052.09862337355   \n",
      "Iteration  800: Cost 417052.0676213617   \n",
      "Iteration  900: Cost 417052.05856382154   \n",
      "Final b is 1964.0745884198536 and w is 737.2883476842801\n"
     ]
    }
   ],
   "source": [
    "# X = years of experience\n",
    "X = [1.2, 1.3, 1.5, 1.8, 2, 2.1, 2.2, 2.5, 2.8, 2.9, 3.1, 3.3, 3.5, 3.8, 4, 4.1, 4.5, 4.9, 5, 5.5, 6, 6.5, 7, 7.5, 8, 8.5, 9, 10, 11, 12, 13, 14, 15]\n",
    "# Y = salary\n",
    "Y = [2900, 3300, 3100, 4200, 3500, 3800, 3300, 3500, 3750, 4000, 3900, 5300, 4420, 5000, 4900, 5200, 3900, 4800, 5700, 6500, 6930, 7500, 7360, 6970, 6800, 7500, 8000, 9500, 11000, 9500, 12300, 13700, 12500]\n",
    "\n",
    "# Configure gradient descent settings\n",
    "b_init = 2000   # the value is taken from previous part (linear regression calculation)\n",
    "w_init = 800    # the value is taken from previous part (linear regression calculation)\n",
    "alpha = 0.01\n",
    "iterations = 1000\n",
    "\n",
    "# Execute the gradient descent in search for optimal cost function (optimal `w` and `b`)\n",
    "w, b, J_history = gradient_descent(X, Y, w_init, b_init, alpha, iterations)\n",
    "print(f\"Final b is {b} and w is {w}\")"
   ]
  },
  {
   "cell_type": "markdown",
   "metadata": {},
   "source": [
    "Now, let's plot the initial and output functions."
   ]
  },
  {
   "cell_type": "code",
   "execution_count": 5,
   "metadata": {},
   "outputs": [
    {
     "data": {
      "image/png": "[encoded data removed]",
      "text/plain": [
       "<Figure size 640x480 with 1 Axes>"
      ]
     },
     "metadata": {},
     "output_type": "display_data"
    }
   ],
   "source": [
    "X = np.vectorize(float)(X)\n",
    "plt.scatter(X, Y)\n",
    "plt.plot(X, b_init + w_init * X, color='g', label=\"Initial f\")\n",
    "plt.plot(X, b + w * X, color='r', label=\"Improved f\")\n",
    "plt.legend()\n",
    "plt.show()"
   ]
  },
  {
   "cell_type": "markdown",
   "metadata": {},
   "source": [
    "The new function looks visually closer to the data points and the computations also confirmed it leads to better results (it approximates the data better)."
   ]
  }
 ],
 "metadata": {
  "kernelspec": {
   "display_name": "Python 3",
   "language": "python",
   "name": "python3"
  },
  "language_info": {
   "codemirror_mode": {
    "name": "ipython",
    "version": 3
   },
   "file_extension": ".py",
   "mimetype": "text/x-python",
   "name": "python",
   "nbconvert_exporter": "python",
   "pygments_lexer": "ipython3",
   "version": "3.13.2"
  }
 },
 "nbformat": 4,
 "nbformat_minor": 2
}
