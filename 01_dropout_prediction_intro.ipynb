{
 "cells": [
  {
   "cell_type": "markdown",
   "metadata": {},
   "source": [
    "# School Dropout Prediction using Anomaly Detection\n",
    "\n",
    "*Miroslav Dzhokanov, 2025*\n",
    "\n",
    "## Abstract\n",
    "\n",
    "**Introduction:** Numerous predictive models for student dropout have been developed to date. However, the majority of these approaches are grounded in traditional *classification* and *regression* techniques like *decision trees, random forests, support vector machines*, as well as *logistic and linear regression* models.\n",
    "\n",
    "The application of *anomaly detection autoencoders* to dropout prediction represents a novel and largely uncharted research direction.\n",
    "\n",
    "**Purpose:** This paper presents an *anomaly detection* approach to dropout prediction using an *autoencoder* trained on student characteristics. Emphasizing **minimal dependency on external libraries**, the implementation is designed to expose the reader to the algorithmic structure and underlying mathematical principles.\n",
    "\n",
    "**Data:** We will be using a common students ML dataset from 2021 with 4424 rows and 37 features, available in [UC Irvine ML Repository](https://doi.org/10.24432/C5MC89).\n",
    "\n",
    "**Results:** The known implementations (based on classifications and regressions) achieve between 70% and 95% accuracy. The autoencoder model achieve **93%** accuracy. \n",
    "\n",
    "**Conclusion:** Anomaly detection is a valid and effective technique for identifying potential school dropouts, and its implementation from scratch is relatively straightforward.\n",
    "\n",
    "**Keywords:** *dropout prediction, anomaly detection, autoencoder*\n"
   ]
  },
  {
   "cell_type": "markdown",
   "metadata": {},
   "source": [
    "## Introduction\n",
    "\n",
    "Millions of students worldwide face challenges in completing their high school education. Even in developed countries such as the United States, reducing dropout rates remains a persistent issue, with over 1.2 million students leaving high school annually. *^[Miller, Tony. \"Partnering for Education Reform.\" U.S. Department of Education. Accessed February 18, 2015.]*\n",
    "\n",
    "With over a decade of experience in the education sector, the issue of school dropouts is both socially relevant and personally compelling. This motivated the development of a machine learning model aimed at identifying students at risk of dropping out.\n",
    "\n",
    "Rather than adopting conventional classification or regression technique, like decision trees and logistic regressions, this study explores a less common approach - **anomaly detection** - through the implementation of an **autoencoder model**. The goal is not to achieve state-of-the-art predictive accuracy, but to provide a transparent, step-by-step construction of the model with minimal reliance on external libraries. This design choice facilitates a deeper understanding of the underlying algorithms and mathematical foundations.\n",
    "\n",
    "While surpassing existing models in accuracy is not the primary objective, any performance gains would be a welcome outcome."
   ]
  },
  {
   "cell_type": "markdown",
   "metadata": {},
   "source": [
    "## Related work\n",
    "\n",
    "* [Chung and Lee](https://www.sciencedirect.com/science/article/abs/pii/S0190740918309721) used a **random forest** classification to predict students at risk of dropping out. They used 165,715 high school students’ data from Korea’s National Education Information System of the year 2014. They obtained an accuracy of **95%** binary classification.\n",
    "\n",
    "* [Pereira and Zambrano](https://ieeexplore.ieee.org/abstract/document/8260685) used **decision trees** to identify patterns of student dropout from socioeconomic, academic, disciplinary, and institutional data of students from undergraduate programs at the University of Nariño in 2017. They used three datasets and obtained a confidence threshold greater than **80%**.\n",
    "\n",
    "* [Fernádez-García et. al](https://ieeexplore.ieee.org/document/9548895) defined several models in 2021, based on **gradient boosting**, **random forest**, and **support vector machine**, from enrollment up to the fourth semester using mainly academic data. The approach considered the output of previous stages. The model could identify **72%** of the students that will dropout. At the end of the fourth semester, the results could reach **91.5%**.\n",
    "\n",
    "* [Ya Zhou and Zhixiang Xu](https://iopscience.iop.org/article/10.1088/1742-6596/1607/1/012004/pdf) implemented in 2020 a multi-model, ensemble learning stacking approach using XGBoost, Gradient Boosted Decision Tree (GBDT) and Light Gradient Boosting Machine (LGBM) models, fed with 8.15 million student log records achieved **92.6%** accuracy.\n",
    "\n",
    "* [Yasemin Ozturk](https://arno.uvt.nl/show.cgi?fid=181524) in 2024 implemented an **artificial neural network** (ANN) that achieved **90%** accuracy. The model was trained on the same dataset with 4424 records as the current autoencoder model that we are building in this paper."
   ]
  },
  {
   "cell_type": "markdown",
   "metadata": {},
   "source": [
    "## Fundamental concepts\n",
    "\n",
    "Before proceeding with the autoencoder implementation, it is essential to review several fundamental concepts in machine learning, including:\n",
    "* linear regression\n",
    "* gradient descent\n",
    "* neural network\n",
    "* activation function\n",
    "* backpropagation"
   ]
  }
 ],
 "metadata": {
  "language_info": {
   "name": "python"
  }
 },
 "nbformat": 4,
 "nbformat_minor": 2
}
