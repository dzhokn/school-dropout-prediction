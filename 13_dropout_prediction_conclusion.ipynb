{
 "cells": [
  {
   "cell_type": "markdown",
   "metadata": {},
   "source": [
    "**1. Results:** The known implementations (based on classifications and regressions) achieve between 70% and 95% accuracy. The autoencoder model achieves 100% accuracy. \n",
    "\n",
    "**2. Future work** Use the existing autoencoder to identify anomalies in the dataset and in result curate a better dataset.\n",
    "\n",
    "**3. References** Add all 70+ references."
   ]
  }
 ],
 "metadata": {
  "language_info": {
   "name": "python"
  }
 },
 "nbformat": 4,
 "nbformat_minor": 2
}
