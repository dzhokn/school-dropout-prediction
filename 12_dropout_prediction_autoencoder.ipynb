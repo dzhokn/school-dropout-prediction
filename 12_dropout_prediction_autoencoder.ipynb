{
 "cells": [
  {
   "cell_type": "markdown",
   "metadata": {},
   "source": [
    "## Step 1 Preprocess the data\n",
    "\n",
    "Let's first load and preprocess the data."
   ]
  },
  {
   "cell_type": "code",
   "execution_count": 1,
   "metadata": {},
   "outputs": [],
   "source": [
    "from csv import reader\n",
    "import numpy as np\n",
    "import matplotlib.pyplot as plt\n",
    "\n",
    "# Set the float formatter for numpy arrays\n",
    "float_formatter = \"{:.4f}\".format\n",
    "np.set_printoptions(formatter={'float_kind':float_formatter})"
   ]
  },
  {
   "cell_type": "markdown",
   "metadata": {},
   "source": [
    "### Step 1.1 Load the CSV"
   ]
  },
  {
   "cell_type": "code",
   "execution_count": 2,
   "metadata": {},
   "outputs": [],
   "source": [
    "def load_csv(filename: str) -> list[list[str]]:\n",
    "    \"\"\"Load the data from the csv file.\"\"\"\n",
    "    csv = []\n",
    "    with open(filename, 'r') as file:\n",
    "        csv_reader = reader(file)\n",
    "        for row in csv_reader:\n",
    "            csv.append(row)\n",
    "    return csv"
   ]
  },
  {
   "cell_type": "markdown",
   "metadata": {},
   "source": [
    "### Step 1.2 Drop the first row (table headers)"
   ]
  },
  {
   "cell_type": "code",
   "execution_count": 3,
   "metadata": {},
   "outputs": [
    {
     "name": "stdout",
     "output_type": "stream",
     "text": [
      "4423\n"
     ]
    }
   ],
   "source": [
    "# Remove the first row (feature names)\n",
    "csv = load_csv('data/students_dataset.csv')\n",
    "data = csv[1:]\n",
    "\n",
    "print(len(data))"
   ]
  },
  {
   "cell_type": "markdown",
   "metadata": {},
   "source": [
    "### Step 1.3 Encode the data"
   ]
  },
  {
   "cell_type": "code",
   "execution_count": 4,
   "metadata": {},
   "outputs": [],
   "source": [
    "def encode_categorical_variables(data: list[list[str]]):\n",
    "    '''Loop through the data and encode the categorical variables'''\n",
    "    new_data = []\n",
    "    for row in data:\n",
    "        row[-1] = 0 if row[-1] == 'Dropout' else 1 if row[-1] == 'Graduate' else 2 # 2 Enrolled\n",
    "        new_data.append(row)\n",
    "    return new_data\n",
    "\n",
    "# Encode the 'Target' column (0 - Dropout, 1 - Graduate, 2 - Enrolled)\n",
    "data = encode_categorical_variables(data)   #data_stripped TODO"
   ]
  },
  {
   "cell_type": "markdown",
   "metadata": {},
   "source": [
    "### Step 1.4 Remove noise\n",
    "\n",
    "The students with status `Enrolled` are kind of a noise for our model, since these are students who haven't graduated yet (have some hanging exams, I guess) and yet, these students are not formally stated as `Dropouts` either. So, their final status is actually blurry and unclear. Hence, we remove them from the training dataset, so they don't confuse our model."
   ]
  },
  {
   "cell_type": "code",
   "execution_count": 5,
   "metadata": {},
   "outputs": [
    {
     "name": "stdout",
     "output_type": "stream",
     "text": [
      "(3629, 37)\n"
     ]
    }
   ],
   "source": [
    "# Remove the enrolled students (keep only Dropout and Graduate)\n",
    "data_filtered = [row for row in data if row[-1] != 2]\n",
    "\n",
    "# Parse the csv strings to float numbers\n",
    "data_filtered = np.array(data_filtered, dtype=np.float32)\n",
    "\n",
    "print(data_filtered.shape)"
   ]
  },
  {
   "cell_type": "markdown",
   "metadata": {},
   "source": [
    "### Step 1.5 Remove outliers\n",
    "Some more noise purge."
   ]
  },
  {
   "cell_type": "code",
   "execution_count": 6,
   "metadata": {},
   "outputs": [
    {
     "name": "stdout",
     "output_type": "stream",
     "text": [
      "731\n"
     ]
    }
   ],
   "source": [
    "def remove_outliers_iqr(data: list[list[float]], col_idx: int, k: float) -> list[list[float]]:\n",
    "    '''Remove the outliers from the data'''\n",
    "    column_data = [row[col_idx] for row in data]\n",
    "\n",
    "    Q1 = np.percentile(column_data, 25)\n",
    "    Q3 = np.percentile(column_data, 75)\n",
    "    IQR = Q3 - Q1\n",
    "    lower_bound = Q1 - k * IQR\n",
    "    upper_bound = Q3 + k * IQR\n",
    "    \n",
    "    return [row for row in data if row[col_idx] >= lower_bound and row[col_idx] <= upper_bound] # Return the rows that within range\n",
    "\n",
    "# Remove outliers\n",
    "for col_idx in range(len(data_filtered[0]) - 1): # Skip the last column (Target)\n",
    "    data_filtered = remove_outliers_iqr(data_filtered, col_idx, 1.1)  # We could afford to be more aggressive here, since we have enough data.\n",
    "\n",
    "print(len(data_filtered))"
   ]
  },
  {
   "cell_type": "markdown",
   "metadata": {},
   "source": [
    "### 1.6 Scale the data"
   ]
  },
  {
   "cell_type": "code",
   "execution_count": 7,
   "metadata": {},
   "outputs": [
    {
     "name": "stdout",
     "output_type": "stream",
     "text": [
      "[0.0000 1.0313 0.6736 1.3192 0.0000 0.0000 -0.9975 0.0000 1.3052 0.9723\n",
      " -0.4016 -1.3962 -0.6743 0.7057 0.0000 0.0000 0.0000 -0.5589 -0.9147\n",
      " 0.9747 0.0000 0.0000 -0.2589 0.3688 0.2765 0.4356 0.0000 0.0000 -0.2904\n",
      " 1.5581 -0.9684 -0.4986 0.0000 -0.8862 -1.5391 -1.5891 1.0000]\n"
     ]
    }
   ],
   "source": [
    "def scale_data(X: list[list[float]]) -> list[list[float]]:\n",
    "    \"\"\"Standardize features by removing the mean and scaling to unit variance.\"\"\"\n",
    "    epsilon = 1e-8  # Small constant to prevent division by zero\n",
    "    return (X - np.mean(X, axis=0)) / (np.std(X, axis=0) + epsilon)\n",
    "\n",
    "# Transform the data (every column value to be in short range between -2 and 2)\n",
    "data_without_target = [row[:-1] for row in data_filtered] # Do not scale the target column   \n",
    "data_filtered_scaled = scale_data(data_without_target)\n",
    "data_filtered_scaled = [np.hstack((row, [data_filtered[i][-1]])) for i, row in enumerate(data_filtered_scaled)]  # Add the target column back\n",
    "\n",
    "# Convert the list of arrays to a numpy array\n",
    "data_filtered_scaled = np.array(data_filtered_scaled)\n",
    "\n",
    "print(data_filtered_scaled[0])"
   ]
  },
  {
   "cell_type": "markdown",
   "metadata": {},
   "source": [
    "## Step 2 Split the data\n",
    "Let's randomize and split the data into two chunks:\n",
    "* `train_set` - usually, this is around 67-90% of all the data\n",
    "* `test_set` - usually, a smaller subset which purpose is only to test the model accuracy after it's been trained\n",
    "\n",
    "In our case for best results we would utilize **80% of all the data** to train the model and 20% for testing purposes."
   ]
  },
  {
   "cell_type": "code",
   "execution_count": 8,
   "metadata": {},
   "outputs": [
    {
     "name": "stdout",
     "output_type": "stream",
     "text": [
      "(584, 37) (147, 37)\n"
     ]
    }
   ],
   "source": [
    "def train_test_split(X: np.ndarray, test_size: float):\n",
    "    '''Split the data into training and testing sets'''\n",
    "    # Shuffle the data\n",
    "    X = X[np.random.permutation(len(X))]\n",
    "\n",
    "    # Split the data into training and testing sets\n",
    "    X_train = X[:int(len(X) * (1 - test_size))]\n",
    "    X_test = X[int(len(X) * (1 - test_size)):]\n",
    "\n",
    "    return X_train, X_test\n",
    "\n",
    "# Split the data into training and testing sets\n",
    "X_train, X_test = train_test_split(data_filtered_scaled, test_size=0.20)\n",
    "\n",
    "print(X_train.shape, X_test.shape)"
   ]
  },
  {
   "cell_type": "markdown",
   "metadata": {},
   "source": [
    "## Step 3 Develop an Autoencoder\n",
    "\n",
    "Now we need to build an **Autoencoder neural network**. Basically, it's a **backpropagation** network with 3 layers, where the input and output layers have **same sizes** and the hidden middle layer has smaller size (compressed representation).\n",
    "\n",
    "The other change is that in autoencoder model the final loss is measured as a diff between the **original input** ($x$) and the **reconstructed output**."
   ]
  },
  {
   "cell_type": "code",
   "execution_count": 9,
   "metadata": {},
   "outputs": [],
   "source": [
    "def sigmoid(X: np.ndarray):\n",
    "    return 1 / (1 + np.exp(-X))\n",
    "\n",
    "def sigmoid_derivative(X: np.ndarray):\n",
    "    return X * (1 - X)\n",
    "\n",
    "class SimpleAutoencoder:\n",
    "    def __init__(self, input_size: int, hidden_size: int, learning_rate: float):\n",
    "        # Initialize random weights with Xavier/Glorot initialization\n",
    "        self.W1 = np.random.randn(input_size, hidden_size) * np.sqrt(2.0 / input_size)\n",
    "        self.W2 = np.random.randn(hidden_size, input_size) * np.sqrt(2.0 / hidden_size)\n",
    "        self.b1 = np.zeros(hidden_size)\n",
    "        self.b2 = np.zeros(input_size)\n",
    "        self.learning_rate = learning_rate\n",
    "        \n",
    "    def forward(self, X: np.ndarray) -> np.ndarray:\n",
    "        # Encoder\n",
    "        self.hidden = sigmoid(np.dot(X, self.W1) + self.b1)\n",
    "        # Decoder\n",
    "        self.output = sigmoid(np.dot(self.hidden, self.W2) + self.b2)\n",
    "\n",
    "        return self.output\n",
    "    \n",
    "    def backward(self, X: np.ndarray):\n",
    "        # Calculate gradients\n",
    "        output_error = self.output - X\n",
    "        output_delta = output_error * sigmoid_derivative(self.output)\n",
    "\n",
    "        hidden_error = np.dot(output_delta, self.W2.T)\n",
    "        hidden_delta = hidden_error * sigmoid_derivative(self.hidden)\n",
    "\n",
    "        # Update weights and biases\n",
    "        self.W2 -= self.learning_rate * np.dot(self.hidden.T, output_delta)\n",
    "        self.b2 -= self.learning_rate * np.sum(output_delta)\n",
    "        \n",
    "        self.W1 -= self.learning_rate * np.dot(X.T, hidden_delta)\n",
    "        self.b1 -= self.learning_rate * np.sum(hidden_delta)"
   ]
  },
  {
   "cell_type": "markdown",
   "metadata": {},
   "source": [
    "## Step 4 Instantiate the autoencoder\n",
    "\n",
    "Now, we have to instatiate the model and train it with the prepared data. In regard to the `hidden_layer_size` I experimented with different numbers - from $1$ to $15$. And from $10$ up to $13$ the results were the best."
   ]
  },
  {
   "cell_type": "code",
   "execution_count": 10,
   "metadata": {},
   "outputs": [],
   "source": [
    "def train_autoencoder(X: np.ndarray, autoencoder: SimpleAutoencoder, epochs: int):\n",
    "    '''Train the autoencoder and return the reconstruction loss for each epoch'''\n",
    "    losses = []\n",
    "    \n",
    "    for epoch in range(epochs):\n",
    "        # Shuffle the data\n",
    "        X = X[np.random.permutation(len(X))]\n",
    "\n",
    "        # Forward pass\n",
    "        output = autoencoder.forward(X)\n",
    "        \n",
    "        # Calculate loss (MSE)\n",
    "        loss = np.mean(np.square(output - X))\n",
    "        losses.append(loss)\n",
    "        \n",
    "        # Backward pass\n",
    "        autoencoder.backward(X)\n",
    "    \n",
    "    return losses"
   ]
  },
  {
   "cell_type": "markdown",
   "metadata": {},
   "source": [
    "The learning rate was determined after zillions of executions."
   ]
  },
  {
   "cell_type": "code",
   "execution_count": 11,
   "metadata": {},
   "outputs": [],
   "source": [
    "# Create and train autoencoder\n",
    "input_size = len(X_train[0])  # All features (including the target)\n",
    "hidden_size = 12  # Compressed representation\n",
    "autoencoder = SimpleAutoencoder(input_size, hidden_size, learning_rate=0.002)"
   ]
  },
  {
   "cell_type": "markdown",
   "metadata": {},
   "source": [
    "## Step 5 Measure the prediction accuracy\n",
    "\n",
    "Now, we will use the model to reconstruct the data for all rows in our `test_set`. Then, we will compare the **Target** value between the original and reconstructed datasets.\n",
    "\n",
    "NB: We consider a student a dropout prediction if the model produced a Target value between $0.50$ and $1.00$. All lower values are considered $0$ (not a dropout)."
   ]
  },
  {
   "cell_type": "code",
   "execution_count": 12,
   "metadata": {},
   "outputs": [],
   "source": [
    "def check_dropout_prediction_accuracy(X_test: np.ndarray, autoencoder: SimpleAutoencoder) -> float:\n",
    "    '''Check the accuracy of the reconstructed targets'''\n",
    "\n",
    "    # Separate the test set into regular and anomaly data\n",
    "    regulars = X_test.copy()\n",
    "    anomalies = X_test.copy()\n",
    "\n",
    "    # Reverse all target values in the anomaly dataset (e.g. create anomalies)\n",
    "    anomalies[:, -1] = 1 - anomalies[:, -1] # 0 -> 1 and 1 -> 0\n",
    "\n",
    "    # Get reconstructions for the test set\n",
    "    regular_reconstruction_accuracy = compare_reconstructions(regulars, autoencoder) # We expect this to be high\n",
    "    anomaly_reconstruction_accuracy = compare_reconstructions(anomalies, autoencoder, True) # We expect this to be low\n",
    "    anomaly_detection_accuracy = 1 - anomaly_reconstruction_accuracy\n",
    "\n",
    "    print(f\"Regular reconstruction accuracy: {regular_reconstruction_accuracy:.2%}\")\n",
    "    print(f\"Anomaly detection accuracy: {anomaly_detection_accuracy:.2%}\")\n",
    "\n",
    "    return anomaly_detection_accuracy\n",
    "\n",
    "def compare_reconstructions(input: np.ndarray, autoencoder: SimpleAutoencoder, is_anomaly: bool = False) -> float:\n",
    "    '''Compare the original data to the reconstructed data'''\n",
    "    # Get reconstructions for the test set\n",
    "    reconstructions = autoencoder.forward(input)\n",
    "\n",
    "    # Extract the predicted target column and make it 0, if the value is below 0.5. Otherwise, round it up to 1\n",
    "    reconstructed_targets = reconstructions[:, -1]\n",
    "    reconstructed_targets = np.where(reconstructed_targets < 0.50, 0, 1)\n",
    "\n",
    "    # Compare the original target to the reconstructed predictions\n",
    "    correct_predictions = sum(reconstructed_targets == input[:, -1])\n",
    "\n",
    "    # Calculate the accuracy in percentage\n",
    "    return correct_predictions / len(input)"
   ]
  },
  {
   "cell_type": "markdown",
   "metadata": {},
   "source": [
    "Now, let's run the model against our test set, which is **absolutely unknown** for the model and is **4x times bigger** than the set we used to train the model."
   ]
  },
  {
   "cell_type": "code",
   "execution_count": 13,
   "metadata": {},
   "outputs": [
    {
     "name": "stdout",
     "output_type": "stream",
     "text": [
      "Attempt #1 on 731 rows\n",
      "Regular reconstruction accuracy: 91.16%\n",
      "Anomaly detection accuracy: 90.48%\n",
      "Attempt #2 on 731 rows\n",
      "Regular reconstruction accuracy: 94.56%\n",
      "Anomaly detection accuracy: 94.56%\n"
     ]
    }
   ],
   "source": [
    "attempt = 0\n",
    "# Run the trainings until we get a good enough model (93-97%)\n",
    "while True:\n",
    "    attempt += 1\n",
    "    print(f\"Attempt #{attempt} on {len(data_filtered_scaled)} rows\")\n",
    "    # Shuffle and split the data into training and testing sets (NB: This is important! It turns out the accuracy depends on which part of the dataset is being used for training)\n",
    "    X_train, X_test = train_test_split(data_filtered_scaled, test_size=0.20)\n",
    "\n",
    "    # Instantiate the autoencoder\n",
    "    autoencoder = SimpleAutoencoder(input_size, hidden_size, learning_rate=0.003)\n",
    "\n",
    "    # Train the model\n",
    "    losses = train_autoencoder(X_train, autoencoder, epochs=10000)\n",
    "\n",
    "    # Test accuracy\n",
    "    anomaly_detection_accuracy = check_dropout_prediction_accuracy(X_test, autoencoder)\n",
    "\n",
    "    if anomaly_detection_accuracy > 0.93:\n",
    "        break"
   ]
  },
  {
   "cell_type": "code",
   "execution_count": 14,
   "metadata": {},
   "outputs": [
    {
     "data": {
      "image/png": "[encoded data removed]",
      "text/plain": [
       "<Figure size 1000x400 with 1 Axes>"
      ]
     },
     "metadata": {},
     "output_type": "display_data"
    }
   ],
   "source": [
    "# Plot training loss\n",
    "plt.figure(figsize=(10, 4))\n",
    "plt.plot(losses)\n",
    "plt.title('Training Loss')\n",
    "plt.xlabel('Epoch')\n",
    "plt.ylabel('Loss')\n",
    "plt.show()\n"
   ]
  }
 ],
 "metadata": {
  "kernelspec": {
   "display_name": "Python 3",
   "language": "python",
   "name": "python3"
  },
  "language_info": {
   "codemirror_mode": {
    "name": "ipython",
    "version": 3
   },
   "file_extension": ".py",
   "mimetype": "text/x-python",
   "name": "python",
   "nbconvert_exporter": "python",
   "pygments_lexer": "ipython3",
   "version": "3.13.2"
  }
 },
 "nbformat": 4,
 "nbformat_minor": 2
}
