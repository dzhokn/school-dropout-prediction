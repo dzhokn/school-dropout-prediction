{
 "cells": [
  {
   "cell_type": "markdown",
   "metadata": {},
   "source": [
    "### Too many features\n",
    "In our dataset we have **36 features** and one **target** field (dropout or not). 36 features looks like a high number of characteristics for such a simple problem as the current one. Probably, we'll need to reduce them.\n",
    "\n",
    "For that purpose let's build and train a backpropagation model (i.e. minimize the loss as minimum as possible). Once we have the trained model we can **rank the features by their importance** (weights). This way we can identify the few **key features**, that has biggest impact on the **target** value."
   ]
  },
  {
   "cell_type": "code",
   "execution_count": 79,
   "metadata": {},
   "outputs": [],
   "source": [
    "from csv import reader\n",
    "import numpy as np\n",
    "import matplotlib.pyplot as plt\n",
    "\n",
    "# Set the float formatter for numpy arrays\n",
    "float_formatter = \"{:.4f}\".format\n",
    "np.set_printoptions(formatter={'float_kind':float_formatter})"
   ]
  },
  {
   "cell_type": "markdown",
   "metadata": {},
   "source": [
    "Let's load the data first."
   ]
  },
  {
   "cell_type": "code",
   "execution_count": 80,
   "metadata": {},
   "outputs": [],
   "source": [
    "data = list()\n",
    "with open('data/students_dataset.csv', 'r') as file:\n",
    "    csv_reader = reader(file)\n",
    "    for row in csv_reader:\n",
    "        data.append(row)\n",
    "\n",
    "# Remember the feature names\n",
    "feature_names = data[0][:-1]\n",
    "\n",
    "# Then remove them from the dataset\n",
    "data = data[1:]"
   ]
  },
  {
   "cell_type": "markdown",
   "metadata": {},
   "source": [
    "### Encode the categorical data\n",
    "We need to encode the text columns and convert them into numbers. In our case we have a single column to encode."
   ]
  },
  {
   "cell_type": "code",
   "execution_count": 81,
   "metadata": {},
   "outputs": [],
   "source": [
    "# Loop through the data and encode the target column (0 - Dropout, 1 - Graduate, 2 - Enrolled)\n",
    "for row in data[0:]:\n",
    "    row[-1] = 0 if row[-1] == 'Dropout' else 1 if row[-1] == 'Graduate' else 2 # 2 Enrolled"
   ]
  },
  {
   "cell_type": "markdown",
   "metadata": {},
   "source": [
    "We need also to convert all the values to `float` numbers (basically, the CSV keeps the data in `string` fields)."
   ]
  },
  {
   "cell_type": "code",
   "execution_count": 82,
   "metadata": {},
   "outputs": [
    {
     "data": {
      "text/plain": [
       "4423"
      ]
     },
     "execution_count": 82,
     "metadata": {},
     "output_type": "execute_result"
    }
   ],
   "source": [
    "# Convert all values to float\n",
    "data = [[float(value) for value in row] for row in data]\n",
    "len(data)"
   ]
  },
  {
   "cell_type": "markdown",
   "metadata": {},
   "source": [
    "We would like to throw away the `Enrolled` students, since this is more like a noise in our dataset. The enrolled students are those which haven't passed their exams at the end of the year, but they haven't dropped school. Yet!\n",
    "\n",
    "Since this cluster of students is close to both the other ones - we would like to remove them from the dataset."
   ]
  },
  {
   "cell_type": "code",
   "execution_count": 83,
   "metadata": {},
   "outputs": [
    {
     "data": {
      "text/plain": [
       "3629"
      ]
     },
     "execution_count": 83,
     "metadata": {},
     "output_type": "execute_result"
    }
   ],
   "source": [
    "# Filter out the `Enrolled` students (keep only `Dropout` and `Graduate`).\n",
    "data_filtered = [row for row in data if row[-1] != 2]\n",
    "len(data_filtered)"
   ]
  },
  {
   "cell_type": "markdown",
   "metadata": {},
   "source": [
    "Now, it's time to remove the data outliers. It is a good practice to get rid of them before training. \n",
    "\n",
    "### IQR\n",
    "\n",
    "The Interquartile Range, or IQR, is a measure of statistical dispersion. It represents the range within which the middle 50% of the data falls. To calculate the $IQR$, you need to find the difference between the 75th percentile ($Q_3$) and the 25th percentile ($Q_1$).\n",
    "\n",
    "$$IQR = Q_3 — Q_1$$\n",
    "\n",
    "To identify outliers using the IQR method, we establish two boundaries:\n",
    "\n",
    "* Lower Bound: $Q_1 – k * IQR$\n",
    "* Upper Bound: $Q_3 + k * IQR$\n",
    "\n",
    "Where $k$ is a coefficient with value higher than $1$. Usually, a low number is being used - between $1.5$ and $2$. But it depends on the data dispersion for the specific feature.\n",
    "\n",
    "\n",
    "<center><img src=\"img/iqr.png\" alt=\"IQR\" width=\"801\" height=\"392\" /></center>\n",
    "<p style=\"text-align: center; font-size: small;\"><i><b>Figure 24.</b> Interquartile Range and Boxplot</i></p>\n",
    "\n",
    "These are the non-categorical columns for which we could apply the **IQR rule** are:\n",
    " * `GDP`\n",
    " * `Inflation`\n",
    " * `Unemployment`\n",
    " * `Curricular units 2nd sem (without evaluations)`\n",
    " * `Curricular units 2nd sem (grade)`\n",
    " * `Curricular units 2nd sem (approved)`\n",
    " * `Curricular units 2nd sem (evaluations)`\n",
    " * `Curricular units 2nd sem (enrolled)`\n",
    " * `Curricular units 2nd sem (credited)`\n",
    " * `Curricular units 1st sem (without evaluations)`\n",
    " * `Curricular units 1st sem (grade)`\n",
    " * `Curricular units 1st sem (approved)`\n",
    " * `Curricular units 1st sem (evaluations)`\n",
    " * `Curricular units 1st sem (enrolled)`\n",
    " * `Curricular units 1st sem (credited)`\n",
    " * `Age at enrollment`\n",
    " * `Admission grade`\n",
    " * `Previous qualification (grade)`\n"
   ]
  },
  {
   "cell_type": "code",
   "execution_count": 84,
   "metadata": {},
   "outputs": [
    {
     "data": {
      "text/plain": [
       "1437"
      ]
     },
     "execution_count": 84,
     "metadata": {},
     "output_type": "execute_result"
    }
   ],
   "source": [
    "# Remove outliers\n",
    "k = 1.5\n",
    "\n",
    "for col_idx in [35,34,33,32,31,30,29,28,27,26,25,24,23,22,21,19,12,6]: # We will apply the IQR rule on specific features only.\n",
    "    # Extract all values for that column in a single list.\n",
    "    column_values = [row[col_idx] for row in data_filtered]\n",
    "\n",
    "    # Calculate the first and third percentile\n",
    "    Q1 = np.percentile(column_values, 25)\n",
    "    Q3 = np.percentile(column_values, 75)\n",
    "\n",
    "    # Calculate the range between 25% and 75% of the population\n",
    "    IQR = Q3 - Q1\n",
    "\n",
    "    # Increase the range, so we won't lose a lot of data\n",
    "    lower_bound = Q1 - (k * IQR)\n",
    "    upper_bound = Q3 + (k * IQR)\n",
    "\n",
    "    # Return the rows within that range\n",
    "    data_without_outliers = [row for row in data_filtered if row[col_idx] >= lower_bound and row[col_idx] <= upper_bound]\n",
    "\n",
    "    # Update the variable before starting the new loop iteration (the dataset gets reduced with each iteration)\n",
    "    data_filtered = data_without_outliers\n",
    "\n",
    "len(data_without_outliers)"
   ]
  },
  {
   "cell_type": "markdown",
   "metadata": {},
   "source": [
    "Before we continue, we need to separate the features from the target value (`0 - Dropout, 1 - Graduated`):"
   ]
  },
  {
   "cell_type": "code",
   "execution_count": 85,
   "metadata": {},
   "outputs": [
    {
     "name": "stdout",
     "output_type": "stream",
     "text": [
      "(1437, 36) (1437,)\n"
     ]
    }
   ],
   "source": [
    "X = np.array([row[:-1] for row in data_without_outliers], dtype=np.float32) # Features\n",
    "y = np.array([row[-1] for row in data_without_outliers], dtype=int)         # Target value (0 - Dropout, 1 - Graduated)\n",
    "\n",
    "print(X.shape, y.shape)"
   ]
  },
  {
   "cell_type": "markdown",
   "metadata": {},
   "source": [
    "OK, we have filtered the noise and the outliers. Now, let's scale the data. We need to have all values fitted into small range (e.g. $[-5\\text{ : }5]$ ).\n",
    "This way we prevent \"larger\" features from dominating smaller ones and ensures that all features contribute equally to the model's learning process. "
   ]
  },
  {
   "cell_type": "code",
   "execution_count": 86,
   "metadata": {},
   "outputs": [
    {
     "name": "stdout",
     "output_type": "stream",
     "text": [
      "[1.0000 15.0000 1.0000 9254.0000 1.0000 1.0000 160.0000 1.0000 1.0000\n",
      " 3.0000 3.0000 3.0000 142.5000 1.0000 0.0000 0.0000 0.0000 1.0000 0.0000\n",
      " 19.0000 0.0000 0.0000 6.0000 6.0000 6.0000 14.0000 0.0000 0.0000 6.0000\n",
      " 6.0000 6.0000 13.6667 0.0000 13.9000 -0.3000 0.7900]\n",
      "[1.0000 17.0000 2.0000 9773.0000 1.0000 1.0000 122.0000 1.0000 38.0000\n",
      " 37.0000 5.0000 3.0000 119.6000 1.0000 0.0000 0.0000 1.0000 0.0000 0.0000\n",
      " 20.0000 0.0000 0.0000 6.0000 8.0000 6.0000 13.4286 0.0000 0.0000 6.0000\n",
      " 10.0000 5.0000 12.4000 0.0000 9.4000 -0.8000 -3.1200]\n"
     ]
    }
   ],
   "source": [
    "# Print first rows of the dataset before scaling\n",
    "for row in X[:2]:\n",
    "    print(row)"
   ]
  },
  {
   "cell_type": "markdown",
   "metadata": {},
   "source": [
    "The transformation for each value ($x$) in a feature is:\n",
    "\n",
    "$$ z = (x - µ) / σ $$\n",
    "\n",
    "Where:\n",
    "* $x$ is the **original value**.\n",
    "* $µ$ is the **mean** of the feature.\n",
    "* $σ$ is the **standard deviation** of the feature.\n",
    "* $z$ is the **scaled value**."
   ]
  },
  {
   "cell_type": "code",
   "execution_count": 87,
   "metadata": {},
   "outputs": [
    {
     "name": "stdout",
     "output_type": "stream",
     "text": [
      "[-0.1763 -0.1672 -0.1763 5.8059 -0.1763 -0.1763 -0.0735 -0.1763 -0.1763\n",
      " -0.1750 -0.1750 -0.1750 -0.0848 -0.1763 -0.1769 -0.1769 -0.1769 -0.1763\n",
      " -0.1769 -0.1647 -0.1769 -0.1769 -0.1731 -0.1731 -0.1731 -0.1679 -0.1769\n",
      " -0.1769 -0.1731 -0.1731 -0.1731 -0.1681 -0.1769 -0.1680 -0.1771 -0.1764]\n",
      "[-0.1763 -0.1659 -0.1756 6.1415 -0.1763 -0.1763 -0.0981 -0.1763 -0.1524\n",
      " -0.1530 -0.1737 -0.1750 -0.0996 -0.1763 -0.1769 -0.1769 -0.1763 -0.1769\n",
      " -0.1769 -0.1640 -0.1769 -0.1769 -0.1731 -0.1718 -0.1731 -0.1683 -0.1769\n",
      " -0.1769 -0.1731 -0.1705 -0.1737 -0.1689 -0.1769 -0.1709 -0.1775 -0.1790]\n"
     ]
    }
   ],
   "source": [
    "def scale_data(x: float) -> float:\n",
    "    \"\"\"Standardize features by removing the mean and scaling to unit variance.\"\"\"\n",
    "    epsilon = 1e-8  # Small constant to prevent division by zero\n",
    "    return (x - np.mean(x)) / (np.std(x) + epsilon)\n",
    "\n",
    "# Scale the data\n",
    "X = scale_data(X)\n",
    "\n",
    "# Print first rows of the dataset after scaling\n",
    "for row in X[:2]:\n",
    "    print(row)"
   ]
  },
  {
   "cell_type": "markdown",
   "metadata": {},
   "source": [
    "Now, we'll need a simple **neural network** that supports **backpropagation**. The network will have only three layers:\n",
    "* input layer (with the size of the features domain)\n",
    "* hidden layer (with size smaller than the input layer)\n",
    "* output layer (with 2 neurons -> is Dropout or not)\n",
    "\n",
    "For the sake of simplicity we will use **sigmoid activation function** for both transitions between layers."
   ]
  },
  {
   "cell_type": "code",
   "execution_count": 88,
   "metadata": {},
   "outputs": [],
   "source": [
    "\n",
    "class NeuralNetwork:\n",
    "    def __init__(self, input_size, hidden_size, output_size):\n",
    "        self.input_size = input_size\n",
    "        self.hidden_size = hidden_size\n",
    "        self.output_size = output_size\n",
    "\n",
    "        # For each layer, initialize the weights and biases\n",
    "        self.weights = []\n",
    "        self.biases = []\n",
    "\n",
    "        # Initialize random weights and biases for the hidden layer\n",
    "        self.weights.append(np.random.randn(input_size, hidden_size) * np.sqrt(2.0 / input_size))\n",
    "        self.biases.append(np.zeros(hidden_size))\n",
    "    \n",
    "        # Initialize random weights and biases for the output layer\n",
    "        self.weights.append(np.random.randn(hidden_size, output_size) * np.sqrt(2.0 / hidden_size))\n",
    "        self.biases.append(np.zeros(output_size))\n",
    "    \n",
    "    def sigmoid(self, x):\n",
    "        return 1 / (1 + np.exp(-x))\n",
    "\n",
    "    def sigmoid_derivative(self, x):\n",
    "        return self.sigmoid(x) * (1 - self.sigmoid(x))\n",
    "\n",
    "    def forward(self, x):\n",
    "        '''Loop through the layers and apply the sigmoid function to the output of each layer'''\n",
    "        activations = []\n",
    "        for i in range(len(self.weights)):\n",
    "            z = np.dot(x, self.weights[i]) + self.biases[i]\n",
    "            a = self.sigmoid(z)\n",
    "            activations.append(a)\n",
    "            x = a\n",
    "        return activations # Return the output of the last layer\n",
    "\n",
    "    def backward(self, activations, x, y, learning_rate):\n",
    "        '''Backpropagate the error through the network'''\n",
    "        # One-hot vector to encode the target values\n",
    "        one_hot_y = np.zeros_like(activations[1])\n",
    "        for i in range(len(y)):\n",
    "            if y[i] == 0: # If, dropout                \n",
    "                one_hot_y[i, 0] = 1   # Then, raise Dropout flag\n",
    "            else:\n",
    "                one_hot_y[i, 1] = 1   # Otherwise, raise Graduate flag\n",
    "\n",
    "        # Compute the error\n",
    "        error = one_hot_y - activations[1] # Directly compare the one-hot vector with the output of the last layer\n",
    "        dz = error * self.sigmoid_derivative(activations[1]) # Compute the delta for the last layer\n",
    "\n",
    "        # First update the weights and biases for the output layer\n",
    "        dw = np.dot(activations[0].T, dz)\n",
    "        self.weights[1] += learning_rate * dw / len(y) # Update the weights of the output layer\n",
    "        db = np.sum(dz)\n",
    "        self.biases[1] += learning_rate * db / len(y) # Update the biases of the output layer\n",
    "\n",
    "        # Then update the weights and biases for the hidden layer\n",
    "        dz = np.dot(dz, self.weights[1].T) * self.sigmoid_derivative(activations[0]) # Compute the delta for the hidden layer\n",
    "        dw = np.dot(x.T, dz)\n",
    "        self.weights[0] += learning_rate * dw / len(y) # Update the weights of the hidden layer\n",
    "        db = np.sum(dz)\n",
    "        self.biases[0] += learning_rate * db / len(y) # Update the biases of the hidden layer\n",
    "\n",
    "        # Return the error\n",
    "        return error\n",
    "\n",
    "    def train(self, x, y, epochs, learning_rate) -> list[float]:\n",
    "        '''Train the neural network by executing the forward and backward passes'''\n",
    "        errors = []\n",
    "        for epoch in range(epochs):\n",
    "            activations = self.forward(x)\n",
    "            err = self.backward(activations, x, y, learning_rate)\n",
    "            err_sum = abs(np.sum(err))\n",
    "            errors.append(err_sum)\n",
    "\n",
    "            # Print the error\n",
    "            if epoch % 100 == 0:\n",
    "                print(f\"Epoch {epoch}/{epochs}, Error: {err_sum}\")\n",
    "\n",
    "            # Prevent overfitting\n",
    "            if -0.01 < err_sum < 0.01:\n",
    "                print(f\"Error: {err_sum}. Stopping training.\")\n",
    "                break\n",
    "        return errors\n",
    "\n",
    "    def rank_features(self):\n",
    "        '''Rank the features by their importance.  Use the weights of the hidden layer to rank the features'''\n",
    "        w = self.weights[0]\n",
    "        ranked_features = []\n",
    "        for i in range(len(w)):\n",
    "            ranked_features.append((i, np.sum(np.abs(w[i]))))\n",
    "        ranked_features.sort(key=lambda x: x[1], reverse=True)\n",
    "        return ranked_features # Return the ranked features"
   ]
  },
  {
   "cell_type": "markdown",
   "metadata": {},
   "source": [
    "Now let's train the network. We have come to these specific numbers for **learning rate** and **epochs** after some tests and playing around with this network and data."
   ]
  },
  {
   "cell_type": "code",
   "execution_count": 89,
   "metadata": {},
   "outputs": [
    {
     "name": "stdout",
     "output_type": "stream",
     "text": [
      "Epoch 0/10000, Error: 406.0450834073927\n",
      "Epoch 100/10000, Error: 17.270598801625596\n",
      "Epoch 200/10000, Error: 5.994003617151312\n",
      "Epoch 300/10000, Error: 3.5219201304768664\n",
      "Epoch 400/10000, Error: 1.462509949036032\n",
      "Epoch 500/10000, Error: 0.5280815736230069\n",
      "Epoch 600/10000, Error: 0.16441578079524183\n",
      "Epoch 700/10000, Error: 0.03271772130427526\n",
      "Error: 0.00992616809246194. Stopping training.\n"
     ]
    },
    {
     "data": {
      "image/png": "[encoded data removed]",
      "text/plain": [
       "<Figure size 640x480 with 1 Axes>"
      ]
     },
     "metadata": {},
     "output_type": "display_data"
    }
   ],
   "source": [
    "nn = NeuralNetwork(input_size=36, hidden_size=8, output_size=2)    \n",
    "errors = nn.train(X, y, epochs=10000, learning_rate=0.1)\n",
    "\n",
    "# Plot the errors\n",
    "plt.plot(errors)\n",
    "plt.title('Training Error')\n",
    "plt.xlabel('Epoch')\n",
    "plt.ylabel('Error')\n",
    "plt.show()"
   ]
  },
  {
   "cell_type": "markdown",
   "metadata": {},
   "source": [
    "OK, the network is trained and the model error is low. Now let's check which features are most important in accordance to this model."
   ]
  },
  {
   "cell_type": "code",
   "execution_count": 90,
   "metadata": {},
   "outputs": [
    {
     "data": {
      "image/png": "[encoded data removed]",
      "text/plain": [
       "<Figure size 640x480 with 1 Axes>"
      ]
     },
     "metadata": {},
     "output_type": "display_data"
    }
   ],
   "source": [
    "# Rank the features by their importance (weights of the hidden layer)\n",
    "ranked_features = nn.rank_features()\n",
    "feature_importance = [ranked_features[i][1] for i in range(len(ranked_features))]\n",
    "feature_importance_names = [feature_names[ranked_features[i][0]] for i in range(len(ranked_features))]\n",
    "\n",
    "# Plot the ranked features\n",
    "plt.bar(feature_importance_names, feature_importance)\n",
    "plt.xticks(rotation=90, size=7)\n",
    "plt.subplots_adjust(bottom=0.5) # The labels are too long, so we need to adjust the plot\n",
    "plt.show()"
   ]
  },
  {
   "cell_type": "markdown",
   "metadata": {},
   "source": [
    "To be frank I have run above network training hundreds of times and I received big variations in the feature importance ranking. \n",
    "\n",
    "However, I noticed some features are almost always in the tail of the list:\n",
    "* `Application mode`\n",
    "* `Application order`\n",
    "* `Inflation rate`\n",
    "* `Unemployment rate`\n",
    "* `Course`\n",
    "* `Daytime/evening attendance`\n",
    "* `International`\n",
    "* `Tuition fees up to date`\n",
    "* `Marital status`\n",
    "\n",
    "So I discarded them from my next experiments."
   ]
  },
  {
   "cell_type": "markdown",
   "metadata": {},
   "source": [
    "Furthermore, there is probably a hidden relation (dependency) between some of the features:\n",
    "* `Mother's/Father's occupations` are related to `Mother's/Father's qualifications`\n",
    "* we have 12 features in probable relation between them (all the `Curricular units 1st/2nd sem`)\n",
    "\n",
    "Maybe a **single feature from each such group** would be enough for training the model."
   ]
  },
  {
   "cell_type": "markdown",
   "metadata": {},
   "source": [
    "## Conclusion\n",
    "\n",
    "#### Reconstruction accuracy\n",
    "After a lot of testing with different versions of my Autoencoder model it turned out that for best overall reconstruction this subset of features delivers best results (e.g. **100% reconstruction accuracy**) :\n",
    "\n",
    "1. `Curricular units 2nd sem (without evaluations)` - This column tracks the number of educational units that were left without grade at the end of 2nd semester. Seems like a reasonable candidate for dropout predictive model. NB: Adding another `Curricular units` column didn't help to improve the model accuracy, so I didn't include them.\n",
    "\n",
    "2. `Father's qualification` - this feature is part of a similar group that represents the economic status of the student's family (the other features in this group are `Father's occupation`, `Mother's occupation` and `Mother's qualification`). Again, here we need only a single column from this group and the best results were achieved when I used `Father's qualification`.\n",
    "\n",
    "3. `Scholarship holder` - student's GPA proxy (usually, students with high grades are not dropouts)\n",
    "\n",
    "4. `Educational special needs` - I guess students with special needs are more prone to dropping out.\n",
    "\n",
    "5. `Debtor` - Another proxy fot the socioeconomic status of the student's family. I am not sure exactly why, but this feature improves the model accuracy.\n",
    "\n",
    "6. `Nacionality` - another feature I am not sure why it is so important for the model, but it turns out to have good effect on the accuracy too.\n",
    "\n",
    "\n",
    "#### Anomaly detection\n",
    "However, for anomaly detection the best configuration would be using all the features."
   ]
  }
 ],
 "metadata": {
  "kernelspec": {
   "display_name": "Python 3",
   "language": "python",
   "name": "python3"
  },
  "language_info": {
   "codemirror_mode": {
    "name": "ipython",
    "version": 3
   },
   "file_extension": ".py",
   "mimetype": "text/x-python",
   "name": "python",
   "nbconvert_exporter": "python",
   "pygments_lexer": "ipython3",
   "version": "3.13.2"
  }
 },
 "nbformat": 4,
 "nbformat_minor": 2
}
