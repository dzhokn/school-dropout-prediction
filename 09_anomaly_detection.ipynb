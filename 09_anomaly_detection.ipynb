{
 "cells": [
  {
   "cell_type": "markdown",
   "metadata": {},
   "source": [
    "## What is an Anomaly?\n",
    "An anomaly is basically something that’s unusual, doesn’t fit the usual pattern, or stands out because it’s different in a specific category or situation. \n",
    "\n",
    "## What is Anomaly Detection?\n",
    "Anomaly detection is the process of identifying data points that deviate from the expected behavior or norm. Uncovering these anomalies can help you mitigate errors in systems, catch potential incidents, segment events or users that deviate from the norm, or just identify abnormal events that occur in your data.\n",
    "\n",
    "Anomaly detection relies on **historical data** or established knowledge to determine what falls within the usual range.\n",
    "\n",
    "## Techniques for Anomaly Detection\n",
    "#### 1. Statistical Methods\n",
    "Statistical approaches like Z-scores, mean-variance analysis, and quartiles are commonly used for simple anomaly detection in univariate data.\n",
    "\n",
    "* **Z-Score/Standard Score**: This method measures how many standard deviations a data point is away from the mean. Points that fall far from the mean are considered anomalies.\n",
    "* **Percentiles**: Identifying anomalies based on percentiles or quantiles, where values below or above a certain threshold are considered outliers.\n",
    "\n",
    "#### 2. Machine Learning Algorithms\n",
    "Advanced techniques, such as clustering, classification, and regression, can be employed for anomaly detection in multidimensional and complex datasets. Popular algorithms include Isolation Forest, One-Class SVM, and Autoencoders.\n",
    "\n",
    "* **Isolation Forest**: An ensemble learning method that builds a tree structure to isolate anomalies efficiently.\n",
    "* **One-Class SVM**: A support vector machine (SVM) model trained to classify data points as normal or outliers.\n",
    "* **K-Nearest Neighbors (KNN)**: Assigns an anomaly score based on the distance to the K-nearest neighbors, with distant points being potential anomalies.\n",
    "* **Autoencoders**: Neural networks designed to learn a compressed representation of data, where reconstruction error can be used to identify anomalies.\n",
    "\n",
    "### 3. Clustering methods\n",
    "* **DBSCAN (Density-Based Spatial Clustering of Applications with Noise)**: Clusters data points based on their density, with points that do not belong to any cluster considered outliers.\n",
    "* **K-Means Clustering**: Data points that do not belong to well-defined clusters may be considered anomalies.\n",
    "\n",
    "#### 4. Time Series Analysis\n",
    "For time-dependent data, methods like Seasonal Decomposition of Time Series (STL) and Prophet can help identify anomalies over time.\n",
    "\n",
    "* **Moving Averages**: Identifying anomalies based on deviations from the moving average or exponential moving average.\n",
    "* **Seasonal Decomposition**: Decomposing a time series into its trend, seasonal, and residual components, with anomalies often detected in the residual component.\n",
    "\n",
    "#### 5. Proximity-based approaches\n",
    "Assumes normal points have close neighbors while anomalies are located far from other points.\n",
    "* **Mahalanobis Distance**: Measures the distance of data points from the center of the data distribution, considering correlations between features.\n",
    "* **Local Outlier Factor (LOF)**: Computes the local density deviation of a data point compared to its neighbors, identifying regions of different densities.\n",
    "\n",
    "#### 6. Deep Learning\n",
    "Deep learning models, like Convolutional Neural Networks (CNNs) and Recurrent Neural Networks (RNNs), are used in image and sequential data anomaly detection.\n",
    "\n",
    "Next we will implement an **anomaly detection** model based on **autoencoder**."
   ]
  }
 ],
 "metadata": {
  "language_info": {
   "name": "python"
  }
 },
 "nbformat": 4,
 "nbformat_minor": 2
}
